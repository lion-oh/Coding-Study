{
 "cells": [
  {
   "cell_type": "code",
   "execution_count": 1,
   "metadata": {},
   "outputs": [],
   "source": [
    "import numpy as np"
   ]
  },
  {
   "cell_type": "code",
   "execution_count": 48,
   "metadata": {},
   "outputs": [],
   "source": [
    "clothes = [[\"yellowhat\", \"headgear\"], [\"bluesunglasses\", \"eyewear\"], [\"green_turban\", \"headgear\"]]"
   ]
  },
  {
   "cell_type": "code",
   "execution_count": 35,
   "metadata": {},
   "outputs": [],
   "source": [
    "dic = {}"
   ]
  },
  {
   "cell_type": "code",
   "execution_count": 4,
   "metadata": {},
   "outputs": [
    {
     "data": {
      "text/plain": [
       "{'headgear': 'yellowhat'}"
      ]
     },
     "execution_count": 4,
     "metadata": {},
     "output_type": "execute_result"
    }
   ],
   "source": [
    "dic['headgear'] = 'yellowhat'\n",
    "dic"
   ]
  },
  {
   "cell_type": "code",
   "execution_count": 5,
   "metadata": {},
   "outputs": [],
   "source": [
    "dic['headgear'] = 'green_turban'"
   ]
  },
  {
   "cell_type": "code",
   "execution_count": 6,
   "metadata": {},
   "outputs": [
    {
     "data": {
      "text/plain": [
       "{'headgear': 'green_turban'}"
      ]
     },
     "execution_count": 6,
     "metadata": {},
     "output_type": "execute_result"
    }
   ],
   "source": [
    "dic"
   ]
  },
  {
   "cell_type": "code",
   "execution_count": 7,
   "metadata": {},
   "outputs": [
    {
     "name": "stdout",
     "output_type": "stream",
     "text": [
      "['yellowhat', 'headgear']\n",
      "['bluesunglasses', 'eyewear']\n",
      "['green_turban', 'headgear']\n"
     ]
    }
   ],
   "source": [
    "for cloth in clothes:\n",
    "    print(cloth)"
   ]
  },
  {
   "cell_type": "code",
   "execution_count": 66,
   "metadata": {},
   "outputs": [],
   "source": [
    "values = []\n",
    "for item in set(np.array(clothes)[:,1]):\n",
    "    \n",
    "    idx, = np.where(np.array(clothes)[:,1] == item)\n",
    "    \n",
    "    values.append(list(np.array(clothes)[:,0][idx])) "
   ]
  },
  {
   "cell_type": "code",
   "execution_count": 67,
   "metadata": {},
   "outputs": [
    {
     "data": {
      "text/plain": [
       "[['yellowhat', 'green_turban'], ['bluesunglasses']]"
      ]
     },
     "execution_count": 67,
     "metadata": {},
     "output_type": "execute_result"
    }
   ],
   "source": [
    "values"
   ]
  },
  {
   "cell_type": "code",
   "execution_count": 69,
   "metadata": {},
   "outputs": [],
   "source": [
    "from itertools import product"
   ]
  },
  {
   "cell_type": "code",
   "execution_count": 80,
   "metadata": {},
   "outputs": [
    {
     "ename": "TypeError",
     "evalue": "object of type 'itertools.product' has no len()",
     "output_type": "error",
     "traceback": [
      "\u001b[0;31m---------------------------------------------------------------------------\u001b[0m",
      "\u001b[0;31mTypeError\u001b[0m                                 Traceback (most recent call last)",
      "\u001b[0;32m<ipython-input-80-bd67cc19bd62>\u001b[0m in \u001b[0;36m<module>\u001b[0;34m\u001b[0m\n\u001b[0;32m----> 1\u001b[0;31m \u001b[0mlen\u001b[0m\u001b[0;34m(\u001b[0m\u001b[0mproduct\u001b[0m\u001b[0;34m(\u001b[0m\u001b[0;34m*\u001b[0m\u001b[0mvalues\u001b[0m\u001b[0;34m)\u001b[0m\u001b[0;34m)\u001b[0m\u001b[0;34m\u001b[0m\u001b[0;34m\u001b[0m\u001b[0m\n\u001b[0m",
      "\u001b[0;31mTypeError\u001b[0m: object of type 'itertools.product' has no len()"
     ]
    }
   ],
   "source": [
    "len(product(*values))"
   ]
  },
  {
   "cell_type": "code",
   "execution_count": 78,
   "metadata": {},
   "outputs": [
    {
     "data": {
      "text/plain": [
       "5"
      ]
     },
     "execution_count": 78,
     "metadata": {},
     "output_type": "execute_result"
    }
   ],
   "source": [
    "len(list(product(*values))) + len(clothes)"
   ]
  },
  {
   "cell_type": "code",
   "execution_count": 157,
   "metadata": {},
   "outputs": [],
   "source": [
    "import numpy as np\n",
    "from itertools import product\n",
    "from itertools import combinations\n",
    "\n",
    "def solution(clothes):\n",
    "    \n",
    "    answer = len(clothes)\n",
    "    \n",
    "    print(f\"answer: {answer}\")\n",
    "    \n",
    "    category = np.array(clothes)[:,1]\n",
    "    \n",
    "    print(f\"category: {category}\")\n",
    "\n",
    "    items = np.array(clothes)[:,0]\n",
    "    \n",
    "    print(f\"items:{items}\")\n",
    "    \n",
    "    values = []\n",
    "    \n",
    "    if len(set(category)) == 1:\n",
    "        print(\"here\")\n",
    "        return answer\n",
    "    \n",
    "    else:\n",
    "        print(\"or here\")\n",
    "        for item in set(category):\n",
    "            idx, = np.where(category == item)\n",
    "            values.append(list(items[idx]))\n",
    "            print(f\"values:{values}\")\n",
    "        \n",
    "        print(len(values))\n",
    "        if len(values) > 2:\n",
    "            for i in range(1,len(values)-1):\n",
    "                for com in list(combinations(values,i+1)):\n",
    "                    print(f\"com: {com}\")\n",
    "                    print(f\"len: {len(list(product(*com)))}\")\n",
    "                    answer += len(list(product(*com)))\n",
    "\n",
    "\n",
    "                print(f\"product: {list(product(*values))}\")\n",
    "                answer += len(list(product(*values)))\n",
    "            return answer\n",
    "        else:\n",
    "            answer += len(list(product(*values)))\n",
    "            return answer"
   ]
  },
  {
   "cell_type": "code",
   "execution_count": 154,
   "metadata": {},
   "outputs": [
    {
     "name": "stdout",
     "output_type": "stream",
     "text": [
      "answer: 3\n",
      "category: ['headgear' 'eyewear' 'headgear']\n",
      "items:['yellowhat' 'bluesunglasses' 'green_turban']\n",
      "or here\n",
      "values:[['yellowhat', 'green_turban']]\n",
      "values:[['yellowhat', 'green_turban'], ['bluesunglasses']]\n",
      "2\n"
     ]
    },
    {
     "data": {
      "text/plain": [
       "5"
      ]
     },
     "execution_count": 154,
     "metadata": {},
     "output_type": "execute_result"
    }
   ],
   "source": [
    "solution([[\"yellowhat\", \"headgear\"], [\"bluesunglasses\", \"eyewear\"], [\"green_turban\", \"headgear\"]])"
   ]
  },
  {
   "cell_type": "code",
   "execution_count": 93,
   "metadata": {},
   "outputs": [],
   "source": [
    "clothes = [[\"crowmask\", \"face\"], [\"bluesunglasses\", \"face\"], [\"smoky_makeup\", \"face\"]]"
   ]
  },
  {
   "cell_type": "code",
   "execution_count": 94,
   "metadata": {},
   "outputs": [
    {
     "data": {
      "text/plain": [
       "True"
      ]
     },
     "execution_count": 94,
     "metadata": {},
     "output_type": "execute_result"
    }
   ],
   "source": [
    "len(set(np.array(clothes)[:, 1])) == 1"
   ]
  },
  {
   "cell_type": "code",
   "execution_count": 155,
   "metadata": {},
   "outputs": [
    {
     "name": "stdout",
     "output_type": "stream",
     "text": [
      "answer: 3\n",
      "category: ['face' 'face' 'face']\n",
      "items:['crowmask' 'bluesunglasses' 'smoky_makeup']\n",
      "here\n"
     ]
    },
    {
     "data": {
      "text/plain": [
       "3"
      ]
     },
     "execution_count": 155,
     "metadata": {},
     "output_type": "execute_result"
    }
   ],
   "source": [
    "solution([[\"crowmask\", \"face\"], [\"bluesunglasses\", \"face\"], [\"smoky_makeup\", \"face\"]])"
   ]
  },
  {
   "cell_type": "code",
   "execution_count": 120,
   "metadata": {},
   "outputs": [],
   "source": [
    "clothes = [[\"yellowhat\", \"headgear\"], [\"bluesunglasses\", \"eyewear\"], [\"green_turban\", \"xxx\"], [\"green\", \"xxx\"]]"
   ]
  },
  {
   "cell_type": "code",
   "execution_count": 121,
   "metadata": {},
   "outputs": [
    {
     "name": "stdout",
     "output_type": "stream",
     "text": [
      "category: ['headgear' 'eyewear' 'xxx' 'xxx']\n",
      "items:['yellowhat' 'bluesunglasses' 'green_turban' 'green']\n",
      "or here\n",
      "values:[['yellowhat']]\n",
      "values:[['yellowhat'], ['bluesunglasses']]\n",
      "values:[['yellowhat'], ['bluesunglasses'], ['green_turban', 'green']]\n",
      "product: [('yellowhat', 'bluesunglasses', 'green_turban'), ('yellowhat', 'bluesunglasses', 'green')]\n"
     ]
    }
   ],
   "source": [
    "category = np.array(clothes)[:,1]\n",
    "\n",
    "print(f\"category: {category}\")\n",
    "\n",
    "items = np.array(clothes)[:,0]\n",
    "\n",
    "print(f\"items:{items}\")\n",
    "\n",
    "values = []\n",
    "\n",
    "if len(set(category)) == 1:\n",
    "    print(\"here\")\n",
    "\n",
    "else:\n",
    "    print(\"or here\")\n",
    "    for item in set(category):\n",
    "        idx, = np.where(category == item)\n",
    "        values.append(list(items[idx]))\n",
    "        print(f\"values:{values}\")\n",
    "\n",
    "    print(f\"product: {list(product(*values))}\")"
   ]
  },
  {
   "cell_type": "code",
   "execution_count": 122,
   "metadata": {},
   "outputs": [],
   "source": [
    "from itertools import combinations"
   ]
  },
  {
   "cell_type": "code",
   "execution_count": 125,
   "metadata": {},
   "outputs": [],
   "source": [
    "answer = 0\n",
    "for com in list(combinations(values,2)):\n",
    "    answer += len(list(product(*com)))"
   ]
  },
  {
   "cell_type": "code",
   "execution_count": 124,
   "metadata": {},
   "outputs": [
    {
     "data": {
      "text/plain": [
       "[(['yellowhat'], ['bluesunglasses']),\n",
       " (['yellowhat'], ['green_turban', 'green']),\n",
       " (['bluesunglasses'], ['green_turban', 'green'])]"
      ]
     },
     "execution_count": 124,
     "metadata": {},
     "output_type": "execute_result"
    }
   ],
   "source": [
    "list(combinations(values,2))"
   ]
  },
  {
   "cell_type": "code",
   "execution_count": 126,
   "metadata": {},
   "outputs": [
    {
     "data": {
      "text/plain": [
       "5"
      ]
     },
     "execution_count": 126,
     "metadata": {},
     "output_type": "execute_result"
    }
   ],
   "source": [
    "answer"
   ]
  },
  {
   "cell_type": "code",
   "execution_count": 129,
   "metadata": {},
   "outputs": [
    {
     "data": {
      "text/plain": [
       "2"
      ]
     },
     "execution_count": 129,
     "metadata": {},
     "output_type": "execute_result"
    }
   ],
   "source": [
    "len(list(product(*values)))"
   ]
  },
  {
   "cell_type": "code",
   "execution_count": 148,
   "metadata": {},
   "outputs": [],
   "source": [
    "import numpy as np\n",
    "from itertools import product\n",
    "from itertools import combinations\n",
    "\n",
    "def solution(clothes):\n",
    "    \n",
    "    answer = len(clothes)\n",
    "    \n",
    "    category = np.array(clothes)[:,1]\n",
    "\n",
    "    items = np.array(clothes)[:,0]\n",
    "    \n",
    "    values = []\n",
    "    \n",
    "    if len(set(category)) == 1:\n",
    "        return answer\n",
    "    \n",
    "    else:\n",
    "        for item in set(category):\n",
    "            idx, = np.where(category == item)\n",
    "            values.append(list(items[idx]))\n",
    "        \n",
    "        print(len(values))\n",
    "        if len(values) > 2:\n",
    "            for com in list(combinations(values,2)):\n",
    "                answer += len(list(product(*com)))\n",
    "                \n",
    "            answer += len(list(product(*values)))\n",
    "            return answer\n",
    "        else:\n",
    "            answer += len(list(product(*values)))\n",
    "            return answer"
   ]
  },
  {
   "cell_type": "code",
   "execution_count": 158,
   "metadata": {},
   "outputs": [
    {
     "name": "stdout",
     "output_type": "stream",
     "text": [
      "answer: 5\n",
      "category: ['head' 'head' 'abc' 'eyewear' 'face']\n",
      "items:['asdfasdf' 'alsekjfla' 'ekcvn' 'qper' 'qwer']\n",
      "or here\n",
      "values:[['ekcvn']]\n",
      "values:[['ekcvn'], ['asdfasdf', 'alsekjfla']]\n",
      "values:[['ekcvn'], ['asdfasdf', 'alsekjfla'], ['qwer']]\n",
      "values:[['ekcvn'], ['asdfasdf', 'alsekjfla'], ['qwer'], ['qper']]\n",
      "4\n",
      "com: (['ekcvn'], ['asdfasdf', 'alsekjfla'])\n",
      "len: 2\n",
      "com: (['ekcvn'], ['qwer'])\n",
      "len: 1\n",
      "com: (['ekcvn'], ['qper'])\n",
      "len: 1\n",
      "com: (['asdfasdf', 'alsekjfla'], ['qwer'])\n",
      "len: 2\n",
      "com: (['asdfasdf', 'alsekjfla'], ['qper'])\n",
      "len: 2\n",
      "com: (['qwer'], ['qper'])\n",
      "len: 1\n",
      "product: [('ekcvn', 'asdfasdf', 'qwer', 'qper'), ('ekcvn', 'alsekjfla', 'qwer', 'qper')]\n",
      "com: (['ekcvn'], ['asdfasdf', 'alsekjfla'], ['qwer'])\n",
      "len: 2\n",
      "com: (['ekcvn'], ['asdfasdf', 'alsekjfla'], ['qper'])\n",
      "len: 2\n",
      "com: (['ekcvn'], ['qwer'], ['qper'])\n",
      "len: 1\n",
      "com: (['asdfasdf', 'alsekjfla'], ['qwer'], ['qper'])\n",
      "len: 2\n",
      "product: [('ekcvn', 'asdfasdf', 'qwer', 'qper'), ('ekcvn', 'alsekjfla', 'qwer', 'qper')]\n"
     ]
    },
    {
     "data": {
      "text/plain": [
       "25"
      ]
     },
     "execution_count": 158,
     "metadata": {},
     "output_type": "execute_result"
    }
   ],
   "source": [
    "solution([[\"asdfasdf\", \"head\"], [\"alsekjfla\", \"head\"], ['ekcvn', 'abc'], ['qper', 'eyewear'], ['qwer', 'face']])"
   ]
  },
  {
   "cell_type": "code",
   "execution_count": 162,
   "metadata": {},
   "outputs": [],
   "source": [
    "import numpy as np\n",
    "from itertools import product\n",
    "from itertools import combinations\n",
    "\n",
    "def solution(clothes):\n",
    "    \n",
    "    answer = len(clothes)\n",
    "    \n",
    "    category = np.array(clothes)[:,1]\n",
    "\n",
    "    items = np.array(clothes)[:,0]\n",
    "    \n",
    "    values = []\n",
    "    \n",
    "    if len(set(category)) == 1:\n",
    "        return answer\n",
    "    \n",
    "    else:\n",
    "        for item in set(category):\n",
    "            idx, = np.where(category == item)\n",
    "            values.append(list(items[idx]))\n",
    "        \n",
    "        if len(values) > 2:\n",
    "            for i in range(1,len(values)-1):\n",
    "                for com in list(combinations(values,i+1)):\n",
    "                    answer += len(list(product(*com)))\n",
    "            answer += len(list(product(*values)))\n",
    "            return answer\n",
    "        else:\n",
    "            answer += len(list(product(*values)))\n",
    "            return answer"
   ]
  },
  {
   "cell_type": "code",
   "execution_count": 163,
   "metadata": {},
   "outputs": [
    {
     "data": {
      "text/plain": [
       "23"
      ]
     },
     "execution_count": 163,
     "metadata": {},
     "output_type": "execute_result"
    }
   ],
   "source": [
    "solution([[\"asdfasdf\", \"head\"], [\"alsekjfla\", \"head\"], ['ekcvn', 'abc'], ['qper', 'eyewear'], ['qwer', 'face']])"
   ]
  },
  {
   "cell_type": "code",
   "execution_count": null,
   "metadata": {},
   "outputs": [],
   "source": []
  }
 ],
 "metadata": {
  "kernelspec": {
   "display_name": "Python 3",
   "language": "python",
   "name": "python3"
  },
  "language_info": {
   "codemirror_mode": {
    "name": "ipython",
    "version": 3
   },
   "file_extension": ".py",
   "mimetype": "text/x-python",
   "name": "python",
   "nbconvert_exporter": "python",
   "pygments_lexer": "ipython3",
   "version": "3.8.8"
  }
 },
 "nbformat": 4,
 "nbformat_minor": 4
}
