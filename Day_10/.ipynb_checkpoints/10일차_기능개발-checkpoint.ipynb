{
 "cells": [
  {
   "cell_type": "code",
   "execution_count": 1,
   "id": "corresponding-battlefield",
   "metadata": {},
   "outputs": [],
   "source": [
    "import numpy as np\n",
    "\n",
    "def solution(progresses, speeds):\n",
    "    answer = []\n",
    "    prog = np.array(progresses)\n",
    "    speed = np.array(speeds)\n",
    "    \n",
    "    while True:\n",
    "        i = 1\n",
    "\n",
    "        if prog[0] >= 100:\n",
    "            idx = np.where(prog >= 100, True, False)\n",
    "            \n",
    "            \n",
    "            answer.append(sum(idx))\n",
    "\n",
    "            if len(prog) == 1:\n",
    "                break\n",
    "            print(prog)\n",
    "            \n",
    "            \n",
    "            prog = prog[[not(i) for i in idx]]\n",
    "            \n",
    "            print(f\"next prog: {prog}\")\n",
    "            speed = speed[[not(i) for i in idx]]\n",
    "\n",
    "        prog += speed * i\n",
    "\n",
    "        i += 1\n",
    "        \n",
    "    return answer"
   ]
  },
  {
   "cell_type": "code",
   "execution_count": 2,
   "id": "reasonable-prague",
   "metadata": {},
   "outputs": [
    {
     "name": "stdout",
     "output_type": "stream",
     "text": [
      "[100  95 104 104  85 104]\n",
      "next prog: [95 85]\n",
      "[100  90]\n",
      "next prog: [90]\n"
     ]
    },
    {
     "data": {
      "text/plain": [
       "[4, 1, 1]"
      ]
     },
     "execution_count": 2,
     "metadata": {},
     "output_type": "execute_result"
    }
   ],
   "source": [
    "solution([95, 90, 99, 99, 80, 99], [1, 1, 1, 1, 1, 1])"
   ]
  },
  {
   "cell_type": "code",
   "execution_count": 3,
   "id": "cooked-speaking",
   "metadata": {},
   "outputs": [
    {
     "name": "stdout",
     "output_type": "stream",
     "text": [
      "[100 240  90]\n",
      "next prog: [90]\n"
     ]
    },
    {
     "data": {
      "text/plain": [
       "[2, 1]"
      ]
     },
     "execution_count": 3,
     "metadata": {},
     "output_type": "execute_result"
    }
   ],
   "source": [
    "solution([93, 30, 55], [1, 30, 5])"
   ]
  },
  {
   "cell_type": "code",
   "execution_count": 36,
   "id": "enhanced-doctor",
   "metadata": {},
   "outputs": [],
   "source": [
    "import numpy as np\n",
    "prog = np.array([93, 30, 55])\n",
    "speed = np.array([1, 30, 5])"
   ]
  },
  {
   "cell_type": "code",
   "execution_count": 34,
   "id": "violent-supplement",
   "metadata": {},
   "outputs": [],
   "source": [
    "i = 1\n",
    "left = []\n",
    "while True:\n",
    "    if sum(prog >= 100) == len(prog):\n",
    "        break\n",
    "    prog = (prog - 100) + speed * i\n",
    "    \n",
    "    if sum(prog >= 0) >= 1:\n",
    "        left.append(i)\n",
    "        \n",
    "    i += 1"
   ]
  },
  {
   "cell_type": "code",
   "execution_count": 49,
   "id": "hydraulic-messenger",
   "metadata": {},
   "outputs": [
    {
     "data": {
      "text/plain": [
       "array([ -3,  50, -25])"
      ]
     },
     "execution_count": 49,
     "metadata": {},
     "output_type": "execute_result"
    }
   ],
   "source": [
    "(prog - 100) + speed * 5"
   ]
  },
  {
   "cell_type": "code",
   "execution_count": 50,
   "id": "disturbed-brighton",
   "metadata": {},
   "outputs": [
    {
     "data": {
      "text/plain": [
       "array([ 7, 70, 45])"
      ]
     },
     "execution_count": 50,
     "metadata": {},
     "output_type": "execute_result"
    }
   ],
   "source": [
    "100 - prog"
   ]
  },
  {
   "cell_type": "code",
   "execution_count": null,
   "id": "selected-insider",
   "metadata": {},
   "outputs": [],
   "source": [
    "# 남은 일수 구하기\n",
    "i = 1\n",
    "idx = 0\n",
    "answer = []\n",
    "\n",
    "while True:\n",
    "    cnt = 0\n",
    "    prog += prog + speed * i\n",
    "    \n",
    "    if prog[0] >= 100:\n",
    "        for j in range(len(prog)):\n",
    "            cnt += 1\n",
    "            if prog[j] > prog[j+1]:\n",
    "                break\n",
    "        prog \n",
    "    \n",
    "    answer.append(cnt)\n",
    "    \n",
    "    i += 1\n",
    "    "
   ]
  },
  {
   "cell_type": "code",
   "execution_count": 60,
   "id": "plain-foster",
   "metadata": {},
   "outputs": [
    {
     "ename": "TypeError",
     "evalue": "can only concatenate list (not \"int\") to list",
     "output_type": "error",
     "traceback": [
      "\u001b[0;31m---------------------------------------------------------------------------\u001b[0m",
      "\u001b[0;31mTypeError\u001b[0m                                 Traceback (most recent call last)",
      "\u001b[0;32m<ipython-input-60-b281cc797f80>\u001b[0m in \u001b[0;36m<module>\u001b[0;34m\u001b[0m\n\u001b[0;32m----> 1\u001b[0;31m \u001b[0msum\u001b[0m\u001b[0;34m(\u001b[0m\u001b[0;34m[\u001b[0m\u001b[0;36m93\u001b[0m\u001b[0;34m,\u001b[0m \u001b[0;36m30\u001b[0m\u001b[0;34m,\u001b[0m \u001b[0;36m55\u001b[0m\u001b[0;34m]\u001b[0m\u001b[0;34m,\u001b[0m \u001b[0;34m[\u001b[0m\u001b[0;36m1\u001b[0m\u001b[0;34m,\u001b[0m \u001b[0;36m30\u001b[0m\u001b[0;34m,\u001b[0m \u001b[0;36m5\u001b[0m\u001b[0;34m]\u001b[0m\u001b[0;34m)\u001b[0m\u001b[0;34m\u001b[0m\u001b[0;34m\u001b[0m\u001b[0m\n\u001b[0m",
      "\u001b[0;31mTypeError\u001b[0m: can only concatenate list (not \"int\") to list"
     ]
    }
   ],
   "source": []
  },
  {
   "cell_type": "code",
   "execution_count": 79,
   "id": "veterinary-mexican",
   "metadata": {},
   "outputs": [],
   "source": [
    "from collections import deque\n",
    "prog = deque([93, 30, 55])\n",
    "speed = deque([1, 30, 5])"
   ]
  },
  {
   "cell_type": "code",
   "execution_count": 80,
   "id": "deluxe-castle",
   "metadata": {},
   "outputs": [
    {
     "data": {
      "text/plain": [
       "94"
      ]
     },
     "execution_count": 80,
     "metadata": {},
     "output_type": "execute_result"
    }
   ],
   "source": [
    "deque([p + s for p, s in zip(prog, speed)])[0]"
   ]
  },
  {
   "cell_type": "code",
   "execution_count": 81,
   "id": "listed-vacuum",
   "metadata": {},
   "outputs": [],
   "source": [
    "i = 1\n",
    "answer = []\n",
    "\n",
    "while True:\n",
    "    cnt = 0\n",
    "    next_prog = deque([p + s*i for p, s in zip(prog, speed)])\n",
    "    \n",
    "    if len(next_prog) == 1:\n",
    "        answer.append(1)\n",
    "        break\n",
    "    \n",
    "    if next_prog[0] >= 100:\n",
    "        prog.popleft()\n",
    "        speed.popleft()\n",
    "        cnt += 1\n",
    "        \n",
    "        if next_prog[0] >= 100:\n",
    "            prog.popleft()\n",
    "            speed.popleft()\n",
    "            cnt += 1\n",
    "            \n",
    "        answer.append(cnt)\n",
    "    i += 1"
   ]
  },
  {
   "cell_type": "code",
   "execution_count": 82,
   "id": "human-mileage",
   "metadata": {},
   "outputs": [
    {
     "data": {
      "text/plain": [
       "[2, 1]"
      ]
     },
     "execution_count": 82,
     "metadata": {},
     "output_type": "execute_result"
    }
   ],
   "source": [
    "answer"
   ]
  },
  {
   "cell_type": "code",
   "execution_count": 151,
   "id": "human-thanks",
   "metadata": {},
   "outputs": [],
   "source": [
    "from collections import deque\n",
    "\n",
    "def solution(progresses, speeds):\n",
    "    prog = deque(progresses)\n",
    "    speed = deque(speeds)\n",
    "    \n",
    "    i = 1\n",
    "    answer = []\n",
    "    \n",
    "    while True:\n",
    "        cnt = 0\n",
    "        next_prog = deque([p + s*i for p, s in zip(prog, speed)])\n",
    "\n",
    "        if next_prog[0] >= 100:\n",
    "            while True:\n",
    "                prog.popleft()\n",
    "                speed.popleft()\n",
    "                next_prog.popleft()\n",
    "                cnt += 1\n",
    "                if len(next_prog) == 0:\n",
    "                    break\n",
    "                if (next_prog[0] < 100):\n",
    "                    break\n",
    "\n",
    "            answer.append(cnt)\n",
    "            \n",
    "        if len(next_prog) == 0:\n",
    "            break\n",
    "        \n",
    "        i += 1\n",
    "    \n",
    "    return answer"
   ]
  },
  {
   "cell_type": "code",
   "execution_count": 152,
   "id": "entire-dealer",
   "metadata": {},
   "outputs": [
    {
     "data": {
      "text/plain": [
       "[1, 3, 2]"
      ]
     },
     "execution_count": 152,
     "metadata": {},
     "output_type": "execute_result"
    }
   ],
   "source": [
    "solution([95, 90, 99, 99, 80, 99], [1, 1, 1, 1, 1, 1])"
   ]
  },
  {
   "cell_type": "code",
   "execution_count": null,
   "id": "unlimited-dubai",
   "metadata": {},
   "outputs": [],
   "source": []
  }
 ],
 "metadata": {
  "kernelspec": {
   "display_name": "Python 3",
   "language": "python",
   "name": "python3"
  },
  "language_info": {
   "codemirror_mode": {
    "name": "ipython",
    "version": 3
   },
   "file_extension": ".py",
   "mimetype": "text/x-python",
   "name": "python",
   "nbconvert_exporter": "python",
   "pygments_lexer": "ipython3",
   "version": "3.8.8"
  }
 },
 "nbformat": 4,
 "nbformat_minor": 5
}
