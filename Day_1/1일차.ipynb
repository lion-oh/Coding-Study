{
 "cells": [
  {
   "cell_type": "code",
   "execution_count": 4,
   "metadata": {},
   "outputs": [],
   "source": [
    "import numpy as np"
   ]
  },
  {
   "cell_type": "code",
   "execution_count": 233,
   "metadata": {},
   "outputs": [],
   "source": [
    "board = np.array([[0,0,0,0,0], [0,0,1,0,3], [0,2,5,0,1], [4,2,4,4,2], [3,5,1,3,1]])"
   ]
  },
  {
   "cell_type": "code",
   "execution_count": 234,
   "metadata": {},
   "outputs": [],
   "source": [
    "moves = [1,5,3,5,1,2,1,4]"
   ]
  },
  {
   "cell_type": "code",
   "execution_count": 229,
   "metadata": {},
   "outputs": [
    {
     "data": {
      "text/plain": [
       "array([[0, 0, 0, 0, 0],\n",
       "       [0, 0, 1, 0, 3],\n",
       "       [0, 2, 5, 0, 1],\n",
       "       [4, 2, 4, 4, 2],\n",
       "       [3, 5, 1, 3, 1]])"
      ]
     },
     "execution_count": 229,
     "metadata": {},
     "output_type": "execute_result"
    }
   ],
   "source": [
    "board"
   ]
  },
  {
   "cell_type": "code",
   "execution_count": 230,
   "metadata": {},
   "outputs": [],
   "source": [
    "# moves 발생 했을 때\n",
    "for i in moves:\n",
    "    if sum(board[:, i-1]) != 0:\n",
    "        num = [x for x in board[:,i-1] if x > 0][0]\n",
    "        idx = np.where(board[:,i-1] == [x for x in board[:,i-1] if x > 0][0])\n",
    "        board[:,i-1][idx[0][0]] = 0\n",
    "        \n",
    "        bagu.append(num)\n",
    "        size = len(bagu)\n",
    "\n",
    "        if len(bagu) in (0, 1):\n",
    "            pass\n",
    "        else:\n",
    "            if bagu[size-2] == bagu[size-1]:\n",
    "                bagu = bagu[:size-2]\n",
    "                cnt += 2\n",
    "            else:\n",
    "                pass        \n",
    "    else:\n",
    "        pass"
   ]
  },
  {
   "cell_type": "code",
   "execution_count": 231,
   "metadata": {},
   "outputs": [
    {
     "data": {
      "text/plain": [
       "4"
      ]
     },
     "execution_count": 231,
     "metadata": {},
     "output_type": "execute_result"
    }
   ],
   "source": [
    "cnt"
   ]
  },
  {
   "cell_type": "code",
   "execution_count": 220,
   "metadata": {},
   "outputs": [],
   "source": [
    "bagu = []\n",
    "cnt = 0"
   ]
  },
  {
   "cell_type": "code",
   "execution_count": 222,
   "metadata": {},
   "outputs": [],
   "source": [
    "# 바구니에 쌓이는 경우\n",
    "bagu.append(num)\n",
    "size = len(bagu)\n",
    "\n",
    "if len(bagu) in (0, 1):\n",
    "    pass\n",
    "else:\n",
    "    if bagu[size-2] == bagu[size-1]:\n",
    "        bagu = bagu[:size-2]\n",
    "        cnt += 2\n",
    "    else:\n",
    "        pass"
   ]
  },
  {
   "cell_type": "code",
   "execution_count": 223,
   "metadata": {},
   "outputs": [
    {
     "data": {
      "text/plain": [
       "[4]"
      ]
     },
     "execution_count": 223,
     "metadata": {},
     "output_type": "execute_result"
    }
   ],
   "source": [
    "bagu"
   ]
  },
  {
   "cell_type": "code",
   "execution_count": 232,
   "metadata": {},
   "outputs": [],
   "source": [
    "import numpy as np\n",
    "\n",
    "def solution(board, moves):\n",
    "\n",
    "    board = np.array(board)\n",
    "    cnt = 0\n",
    "    bagu = []\n",
    "    \n",
    "    # moves 발생 했을 때\n",
    "    for i in moves:\n",
    "        if sum(board[:, i-1]) != 0:\n",
    "            num = [x for x in board[:,i-1] if x > 0][0]\n",
    "            idx = np.where(board[:,i-1] == [x for x in board[:,i-1] if x > 0][0])\n",
    "            board[:,i-1][idx[0][0]] = 0\n",
    "\n",
    "            bagu.append(num)\n",
    "            size = len(bagu)\n",
    "\n",
    "            if len(bagu) in (0, 1):\n",
    "                pass\n",
    "            else:\n",
    "                if bagu[size-2] == bagu[size-1]:\n",
    "                    bagu = bagu[:size-2]\n",
    "                    cnt += 2\n",
    "                else:\n",
    "                    pass        \n",
    "        else:\n",
    "            pass\n",
    "    \n",
    "    return cnt"
   ]
  },
  {
   "cell_type": "code",
   "execution_count": 236,
   "metadata": {},
   "outputs": [
    {
     "data": {
      "text/plain": [
       "4"
      ]
     },
     "execution_count": 236,
     "metadata": {},
     "output_type": "execute_result"
    }
   ],
   "source": [
    "solution(board, moves)"
   ]
  },
  {
   "cell_type": "code",
   "execution_count": null,
   "metadata": {},
   "outputs": [],
   "source": []
  }
 ],
 "metadata": {
  "kernelspec": {
   "display_name": "Python 3",
   "language": "python",
   "name": "python3"
  },
  "language_info": {
   "codemirror_mode": {
    "name": "ipython",
    "version": 3
   },
   "file_extension": ".py",
   "mimetype": "text/x-python",
   "name": "python",
   "nbconvert_exporter": "python",
   "pygments_lexer": "ipython3",
   "version": "3.7.7"
  }
 },
 "nbformat": 4,
 "nbformat_minor": 4
}
