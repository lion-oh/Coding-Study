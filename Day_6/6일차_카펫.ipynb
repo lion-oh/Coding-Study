{
 "cells": [
  {
   "cell_type": "code",
   "execution_count": null,
   "id": "objective-association",
   "metadata": {},
   "outputs": [],
   "source": [
    "import numpy as np\n",
    "import math\n",
    "\n",
    "def solution(brown, yellow):\n",
    "    x = np.array([])\n",
    "    y = np.array([])\n",
    "    \n",
    "    if yellow == 1:\n",
    "        answer = [yellow+2, yellow+2]\n",
    "        return answer\n",
    "    \n",
    "    for i in range(1, math.floor(np.sqrt(yellow))+1):\n",
    "        if yellow % i == 0:\n",
    "            y = np.append(y, i)\n",
    "            x = np.append(x, yellow//i)\n",
    "            \n",
    "    for i in range(len(x)):\n",
    "        if x[i] * 2 + y[i] * 2 + 4 == brown:\n",
    "            answer = [x[i] + 2, y[i] + 2]\n",
    "            return answer"
   ]
  }
 ],
 "metadata": {
  "kernelspec": {
   "display_name": "Python 3",
   "language": "python",
   "name": "python3"
  },
  "language_info": {
   "codemirror_mode": {
    "name": "ipython",
    "version": 3
   },
   "file_extension": ".py",
   "mimetype": "text/x-python",
   "name": "python",
   "nbconvert_exporter": "python",
   "pygments_lexer": "ipython3",
   "version": "3.8.6"
  }
 },
 "nbformat": 4,
 "nbformat_minor": 5
}
