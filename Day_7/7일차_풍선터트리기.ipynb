{
 "cells": [
  {
   "cell_type": "code",
   "execution_count": 2,
   "id": "incoming-edition",
   "metadata": {},
   "outputs": [],
   "source": [
    "import numpy as np"
   ]
  },
  {
   "cell_type": "code",
   "execution_count": 3,
   "id": "received-victory",
   "metadata": {},
   "outputs": [],
   "source": [
    "def solution(a):\n",
    "    answer = 0\n",
    "    return answer"
   ]
  },
  {
   "cell_type": "code",
   "execution_count": 50,
   "id": "brief-local",
   "metadata": {},
   "outputs": [],
   "source": [
    "a = [-16, 27, 65, -2, 58, -92, -71, -68, -61, -33]"
   ]
  },
  {
   "cell_type": "code",
   "execution_count": 119,
   "id": "strong-inspection",
   "metadata": {},
   "outputs": [],
   "source": [
    "idx_1 = len(a)\n",
    "idx_2 = []"
   ]
  },
  {
   "cell_type": "code",
   "execution_count": 114,
   "id": "micro-pavilion",
   "metadata": {},
   "outputs": [],
   "source": [
    "point = a[idx_1]\n",
    "left_ls = a[:idx_1] \n",
    "right_ls = a[idx_1+1:]"
   ]
  },
  {
   "cell_type": "code",
   "execution_count": 115,
   "id": "arabic-skiing",
   "metadata": {},
   "outputs": [],
   "source": [
    "if len(left_ls) != 0:\n",
    "    left_max = min(left_ls)\n",
    "    \n",
    "if len(right_ls) != 0:\n",
    "    right_max = min(right_ls)"
   ]
  },
  {
   "cell_type": "code",
   "execution_count": 116,
   "id": "stainless-reserve",
   "metadata": {},
   "outputs": [
    {
     "data": {
      "text/plain": [
       "(-92, -71, -68)"
      ]
     },
     "execution_count": 116,
     "metadata": {},
     "output_type": "execute_result"
    }
   ],
   "source": [
    "left_max, point, right_max"
   ]
  },
  {
   "cell_type": "code",
   "execution_count": 100,
   "id": "timely-hometown",
   "metadata": {},
   "outputs": [
    {
     "data": {
      "text/plain": [
       "65"
      ]
     },
     "execution_count": 100,
     "metadata": {},
     "output_type": "execute_result"
    }
   ],
   "source": [
    "max(-16, 65, -92)"
   ]
  },
  {
   "cell_type": "code",
   "execution_count": 166,
   "id": "increased-berry",
   "metadata": {},
   "outputs": [],
   "source": [
    "def func(left, point, right):\n",
    "    if max(left, point, right) == point:\n",
    "        return False\n",
    "    \n",
    "    elif min(left, point, right) == point:\n",
    "        return True\n",
    "    \n",
    "    elif min(left, point, right) != point:\n",
    "        return True\n",
    "    \n",
    "    return "
   ]
  },
  {
   "cell_type": "code",
   "execution_count": 128,
   "id": "moved-elevation",
   "metadata": {},
   "outputs": [
    {
     "name": "stdout",
     "output_type": "stream",
     "text": [
      "10\n",
      "10\n",
      "1\n",
      "10\n",
      "2\n",
      "10\n",
      "3\n",
      "10\n",
      "4\n",
      "10\n",
      "5\n",
      "10\n",
      "6\n",
      "10\n",
      "7\n",
      "10\n",
      "8\n",
      "10\n"
     ]
    }
   ],
   "source": [
    "answer = 0\n",
    "\n",
    "for idx in range(idx_1):\n",
    "    point = a[idx]\n",
    "    \n",
    "    if (idx == 0) | (idx+1 == idx_1):\n",
    "        answer += 1\n",
    "        continue\n",
    "    \n",
    "    else:\n",
    "\n",
    "        left_ls = a[:idx]\n",
    "        right_ls = a[idx+1:]\n",
    "        left_min = min(left_ls) \n",
    "        right_min = min(right_ls)\n",
    "        \n",
    "    if func(left_min, point, right_min):\n",
    "        answer += 1\n",
    "        "
   ]
  },
  {
   "cell_type": "code",
   "execution_count": 176,
   "id": "connected-transmission",
   "metadata": {},
   "outputs": [],
   "source": [
    "def solution(a):\n",
    "    answer = 0\n",
    "    idx_1 = len(a)\n",
    "    \n",
    "    for idx in range(idx_1):\n",
    "        point = a[idx]\n",
    "    \n",
    "        if (idx == 0) | (idx+1 == idx_1):\n",
    "            answer += 1\n",
    "            continue\n",
    "\n",
    "        else:\n",
    "            left_ls = a[:idx]\n",
    "            right_ls = a[idx+1:]\n",
    "            left_min = min(left_ls) \n",
    "            right_min = min(right_ls)     \n",
    "            \n",
    "        if max(left_min, point, right_min) == point:\n",
    "            continue\n",
    "            \n",
    "        if (min(left_min, point, right_min) == point) | (min(left_min, point, right_min) != point):\n",
    "            answer += 1\n",
    "    \n",
    "        \n",
    "    return answer"
   ]
  },
  {
   "cell_type": "code",
   "execution_count": 183,
   "id": "periodic-english",
   "metadata": {},
   "outputs": [
    {
     "ename": "ValueError",
     "evalue": "min() arg is an empty sequence",
     "output_type": "error",
     "traceback": [
      "\u001b[0;31m---------------------------------------------------------------------------\u001b[0m",
      "\u001b[0;31mValueError\u001b[0m                                Traceback (most recent call last)",
      "\u001b[0;32m<ipython-input-183-8823d33dfd78>\u001b[0m in \u001b[0;36m<module>\u001b[0;34m\u001b[0m\n\u001b[0;32m----> 1\u001b[0;31m \u001b[0msolution\u001b[0m\u001b[0;34m(\u001b[0m\u001b[0;34m[\u001b[0m\u001b[0;34m-\u001b[0m\u001b[0;36m16\u001b[0m\u001b[0;34m,\u001b[0m\u001b[0;36m27\u001b[0m\u001b[0;34m,\u001b[0m\u001b[0;36m65\u001b[0m\u001b[0;34m,\u001b[0m\u001b[0;34m-\u001b[0m\u001b[0;36m2\u001b[0m\u001b[0;34m,\u001b[0m\u001b[0;36m58\u001b[0m\u001b[0;34m,\u001b[0m\u001b[0;34m-\u001b[0m\u001b[0;36m92\u001b[0m\u001b[0;34m,\u001b[0m\u001b[0;34m-\u001b[0m\u001b[0;36m71\u001b[0m\u001b[0;34m,\u001b[0m\u001b[0;34m-\u001b[0m\u001b[0;36m68\u001b[0m\u001b[0;34m,\u001b[0m\u001b[0;34m-\u001b[0m\u001b[0;36m61\u001b[0m\u001b[0;34m,\u001b[0m\u001b[0;34m-\u001b[0m\u001b[0;36m33\u001b[0m\u001b[0;34m]\u001b[0m\u001b[0;34m)\u001b[0m\u001b[0;34m\u001b[0m\u001b[0;34m\u001b[0m\u001b[0m\n\u001b[0m",
      "\u001b[0;32m<ipython-input-182-7302d0ff5cc7>\u001b[0m in \u001b[0;36msolution\u001b[0;34m(a)\u001b[0m\n\u001b[1;32m     34\u001b[0m             \u001b[0mright_ls_1\u001b[0m \u001b[0;34m=\u001b[0m \u001b[0ma\u001b[0m\u001b[0;34m[\u001b[0m\u001b[0midx_1\u001b[0m\u001b[0;34m+\u001b[0m\u001b[0;36m1\u001b[0m\u001b[0;34m:\u001b[0m\u001b[0;34m]\u001b[0m\u001b[0;34m\u001b[0m\u001b[0;34m\u001b[0m\u001b[0m\n\u001b[1;32m     35\u001b[0m             \u001b[0mleft_min_1\u001b[0m \u001b[0;34m=\u001b[0m \u001b[0mmin\u001b[0m\u001b[0;34m(\u001b[0m\u001b[0mleft_ls_1\u001b[0m\u001b[0;34m)\u001b[0m\u001b[0;34m\u001b[0m\u001b[0;34m\u001b[0m\u001b[0m\n\u001b[0;32m---> 36\u001b[0;31m             \u001b[0mright_min_1\u001b[0m \u001b[0;34m=\u001b[0m \u001b[0mmin\u001b[0m\u001b[0;34m(\u001b[0m\u001b[0mright_ls_1\u001b[0m\u001b[0;34m)\u001b[0m\u001b[0;34m\u001b[0m\u001b[0;34m\u001b[0m\u001b[0m\n\u001b[0m\u001b[1;32m     37\u001b[0m \u001b[0;34m\u001b[0m\u001b[0m\n\u001b[1;32m     38\u001b[0m             \u001b[0mleft_ls_2\u001b[0m \u001b[0;34m=\u001b[0m \u001b[0ma\u001b[0m\u001b[0;34m[\u001b[0m\u001b[0;34m:\u001b[0m\u001b[0midx_2\u001b[0m\u001b[0;34m]\u001b[0m\u001b[0;34m\u001b[0m\u001b[0;34m\u001b[0m\u001b[0m\n",
      "\u001b[0;31mValueError\u001b[0m: min() arg is an empty sequence"
     ]
    }
   ],
   "source": [
    "solution([-16,27,65,-2,58,-92,-71,-68,-61,-33])"
   ]
  },
  {
   "cell_type": "code",
   "execution_count": 204,
   "id": "fifty-deficit",
   "metadata": {},
   "outputs": [],
   "source": [
    "def func(left, point, right):\n",
    "    if max(left, point, right) == point:\n",
    "        return False\n",
    "    \n",
    "    if min(left, point, right) == point:\n",
    "        return True\n",
    "    \n",
    "    if min(left, point, right) != point:\n",
    "        return True\n",
    "    \n",
    "\n",
    "\n",
    "def solution(a):\n",
    "    answer = 0\n",
    "    idx_1 = len(np.int32(a) )\n",
    "    \n",
    "    for idx in range(idx_1):\n",
    "        point = a[idx]\n",
    "    \n",
    "        if (idx == 0) | (idx+1 == idx_1):\n",
    "            answer += 1\n",
    "            continue\n",
    "\n",
    "        else:\n",
    "            left_ls = a[:idx]\n",
    "            right_ls = a[idx+1:]\n",
    "            left_min = min(left_ls) \n",
    "            right_min = min(right_ls)\n",
    "\n",
    "        if func(left_min, point, right_min):\n",
    "            answer += 1\n",
    "        \n",
    "    return answer"
   ]
  },
  {
   "cell_type": "code",
   "execution_count": 201,
   "id": "changing-trailer",
   "metadata": {},
   "outputs": [],
   "source": [
    "import numpy as np\n",
    "\n",
    "def func(left, point, right):\n",
    "    if max(left, point, right) == point:\n",
    "        return False\n",
    "    \n",
    "    if min(left, point, right) == point:\n",
    "        return True\n",
    "    \n",
    "    if min(left, point, right) != point:\n",
    "        return True\n",
    "    \n",
    "\n",
    "def solution(a):\n",
    "    answer = 0\n",
    "    idx_0 = len(np.int32(a)) \n",
    "    \n",
    "    for idx in range(idx_0): \n",
    "        idx_1 = idx \n",
    "        idx_2 = idx_0 - 1 - idx_1 \n",
    "        \n",
    "        if idx_2 < idx_1:\n",
    "            break\n",
    "            \n",
    "        if idx_1 == idx_2:\n",
    "            point_1 = a[idx_1]\n",
    "            left_ls_1 = a[:idx_1]\n",
    "            right_ls_1 = a[idx_1+1:]\n",
    "            left_min_1 = min(left_ls_1) \n",
    "            right_min_1 = min(right_ls_1)\n",
    "            \n",
    "            if func(left_min_1, point_1, right_min_1):\n",
    "                answer += 1\n",
    "            break\n",
    "            \n",
    "        point_1 = a[idx_1]\n",
    "        point_2 = a[idx_2]\n",
    "    \n",
    "        if (idx_1== 0) | (idx_2+1 == idx_0):\n",
    "            answer += 2\n",
    "            continue\n",
    "\n",
    "        else:\n",
    "            left_ls_1 = a[:idx_1]\n",
    "            right_ls_1 = a[idx_1+1:]\n",
    "            left_min_1 = min(left_ls_1) \n",
    "            right_min_1 = min(right_ls_1)\n",
    "            \n",
    "            left_ls_2 = a[:idx_2]\n",
    "            right_ls_2 = a[idx_2+1:]\n",
    "            left_min_2 = min(left_ls_2) \n",
    "            right_min_2 = min(right_ls_2)\n",
    "\n",
    "        if func(left_min_1, point_1, right_min_1):\n",
    "            answer += 1\n",
    "        \n",
    "        if func(left_min_2, point_2, right_min_2):\n",
    "            answer += 1\n",
    "        \n",
    "        \n",
    "    return answer"
   ]
  },
  {
   "cell_type": "code",
   "execution_count": 205,
   "id": "proved-playback",
   "metadata": {},
   "outputs": [
    {
     "data": {
      "text/plain": [
       "6"
      ]
     },
     "execution_count": 205,
     "metadata": {},
     "output_type": "execute_result"
    }
   ],
   "source": [
    "solution([-16, 27, 65, -2, 58, -92, -71, -68, -61, -33])"
   ]
  },
  {
   "cell_type": "code",
   "execution_count": null,
   "id": "informative-factory",
   "metadata": {},
   "outputs": [],
   "source": [
    "a = [-16, 27, 65, -2, 58, -92, -71, -68, -61, -33]\n"
   ]
  }
 ],
 "metadata": {
  "kernelspec": {
   "display_name": "Python 3",
   "language": "python",
   "name": "python3"
  },
  "language_info": {
   "codemirror_mode": {
    "name": "ipython",
    "version": 3
   },
   "file_extension": ".py",
   "mimetype": "text/x-python",
   "name": "python",
   "nbconvert_exporter": "python",
   "pygments_lexer": "ipython3",
   "version": "3.8.8"
  }
 },
 "nbformat": 4,
 "nbformat_minor": 5
}
