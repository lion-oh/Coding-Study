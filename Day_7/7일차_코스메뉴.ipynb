{
 "cells": [
  {
   "cell_type": "code",
   "execution_count": 13,
   "metadata": {},
   "outputs": [],
   "source": [
    "from itertools import combinations\n",
    "\n",
    "def solution(orders, course):\n",
    "    answer = []\n",
    "\n",
    "\n",
    "    for i in course: # 코스 갯수별로 조합을 구하겠다\n",
    "        total = [] # 가능한 모든 조합 \n",
    "        dic = {} # 각 조합별 카운트\n",
    "        \n",
    "        for j in range(len(orders)): # 손님의 주문을 순차적으로 받아서\n",
    "            print([''.join(values) for values in list(combinations(sorted(list(orders[j])), i))])\n",
    "            total += [''.join(values) for values in list(combinations(sorted(list(orders[j])), i))] # 코스 개수에 해당하는 조합 구해서 total변수에 저장하겠다.\n",
    "            print(\"total: \",total)\n",
    "            \n",
    "        unique = list(set(total)) # 모든 조합에서 중복을 제거한 유니크한 코스메뉴\n",
    "        print(\"unique\", unique)\n",
    "        for key in unique: #\n",
    "            dic[key] = total.count(key)\n",
    "        \n",
    "        print(\"dic:\", dic)\n",
    "        answer += [k for k, v in dic.items() if (max(dic.values()) != 1) & (v == max(dic.values()))]\n",
    "        print(\"answer\", answer)\n",
    "        \n",
    "    answer.sort()\n",
    "    return answer"
   ]
  },
  {
   "cell_type": "code",
   "execution_count": 14,
   "metadata": {},
   "outputs": [
    {
     "name": "stdout",
     "output_type": "stream",
     "text": [
      "['XY', 'XZ', 'YZ']\n",
      "total:  ['XY', 'XZ', 'YZ']\n",
      "['WX', 'WY', 'XY']\n",
      "total:  ['XY', 'XZ', 'YZ', 'WX', 'WY', 'XY']\n",
      "['AW', 'AX', 'WX']\n",
      "total:  ['XY', 'XZ', 'YZ', 'WX', 'WY', 'XY', 'AW', 'AX', 'WX']\n",
      "unique ['YZ', 'AW', 'XY', 'WX', 'XZ', 'WY', 'AX']\n",
      "dic: {'YZ': 1, 'AW': 1, 'XY': 2, 'WX': 2, 'XZ': 1, 'WY': 1, 'AX': 1}\n",
      "answer ['XY', 'WX']\n",
      "['XYZ']\n",
      "total:  ['XYZ']\n",
      "['WXY']\n",
      "total:  ['XYZ', 'WXY']\n",
      "['AWX']\n",
      "total:  ['XYZ', 'WXY', 'AWX']\n",
      "unique ['XYZ', 'AWX', 'WXY']\n",
      "dic: {'XYZ': 1, 'AWX': 1, 'WXY': 1}\n",
      "answer ['XY', 'WX']\n",
      "[]\n",
      "total:  []\n",
      "[]\n",
      "total:  []\n",
      "[]\n",
      "total:  []\n",
      "unique []\n",
      "dic: {}\n",
      "answer ['XY', 'WX']\n"
     ]
    },
    {
     "data": {
      "text/plain": [
       "['WX', 'XY']"
      ]
     },
     "execution_count": 14,
     "metadata": {},
     "output_type": "execute_result"
    }
   ],
   "source": [
    "solution([\"XYZ\", \"XWY\", \"WXA\"], [2,3,4])"
   ]
  },
  {
   "cell_type": "code",
   "execution_count": null,
   "metadata": {},
   "outputs": [],
   "source": []
  },
  {
   "cell_type": "code",
   "execution_count": null,
   "metadata": {},
   "outputs": [],
   "source": []
  },
  {
   "cell_type": "code",
   "execution_count": null,
   "metadata": {},
   "outputs": [],
   "source": []
  }
 ],
 "metadata": {
  "kernelspec": {
   "display_name": "Python 3",
   "language": "python",
   "name": "python3"
  },
  "language_info": {
   "codemirror_mode": {
    "name": "ipython",
    "version": 3
   },
   "file_extension": ".py",
   "mimetype": "text/x-python",
   "name": "python",
   "nbconvert_exporter": "python",
   "pygments_lexer": "ipython3",
   "version": "3.8.5"
  }
 },
 "nbformat": 4,
 "nbformat_minor": 5
}
