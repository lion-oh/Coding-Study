{
 "cells": [
  {
   "cell_type": "markdown",
   "metadata": {},
   "source": [
    "## 1. 수박수박수박수박?"
   ]
  },
  {
   "cell_type": "code",
   "execution_count": 1,
   "metadata": {},
   "outputs": [],
   "source": [
    "n = 1"
   ]
  },
  {
   "cell_type": "code",
   "execution_count": 25,
   "metadata": {},
   "outputs": [
    {
     "name": "stdout",
     "output_type": "stream",
     "text": [
      "수\n"
     ]
    }
   ],
   "source": [
    "if n % 2 == 0:\n",
    "    print(\"수박\" * (n//2))\n",
    "else:\n",
    "    print(\"수박\" * (n//2) + '수')"
   ]
  },
  {
   "cell_type": "code",
   "execution_count": 26,
   "metadata": {},
   "outputs": [],
   "source": [
    "def solution(n):\n",
    "    if n % 2 == 0:\n",
    "        return \"수박\" * (n//2)\n",
    "    else:\n",
    "        return \"수박\" * (n//2) + '수'"
   ]
  },
  {
   "cell_type": "code",
   "execution_count": 28,
   "metadata": {},
   "outputs": [
    {
     "data": {
      "text/plain": [
       "'수박'"
      ]
     },
     "execution_count": 28,
     "metadata": {},
     "output_type": "execute_result"
    }
   ],
   "source": [
    "solution(2)"
   ]
  },
  {
   "cell_type": "markdown",
   "metadata": {},
   "source": [
    "## "
   ]
  },
  {
   "cell_type": "markdown",
   "metadata": {},
   "source": [
    "## 2. 큰 수 만들기"
   ]
  },
  {
   "cell_type": "code",
   "execution_count": 2,
   "metadata": {},
   "outputs": [],
   "source": [
    "import numpy as np"
   ]
  },
  {
   "cell_type": "code",
   "execution_count": 3,
   "metadata": {},
   "outputs": [],
   "source": [
    "n = \"4177252841\""
   ]
  },
  {
   "cell_type": "code",
   "execution_count": 281,
   "metadata": {},
   "outputs": [
    {
     "data": {
      "text/plain": [
       "'41'"
      ]
     },
     "execution_count": 281,
     "metadata": {},
     "output_type": "execute_result"
    }
   ],
   "source": [
    "n[0:2]"
   ]
  },
  {
   "cell_type": "code",
   "execution_count": 300,
   "metadata": {},
   "outputs": [],
   "source": [
    "l = len(n)"
   ]
  },
  {
   "cell_type": "code",
   "execution_count": 301,
   "metadata": {},
   "outputs": [
    {
     "data": {
      "text/plain": [
       "10"
      ]
     },
     "execution_count": 301,
     "metadata": {},
     "output_type": "execute_result"
    }
   ],
   "source": [
    "l"
   ]
  },
  {
   "cell_type": "code",
   "execution_count": 4,
   "metadata": {},
   "outputs": [],
   "source": [
    "num = np.array([int(n[x]) for x in range(len(n))])"
   ]
  },
  {
   "cell_type": "code",
   "execution_count": 5,
   "metadata": {},
   "outputs": [
    {
     "data": {
      "text/plain": [
       "array([4, 1, 7, 7, 2, 5, 2, 8, 4, 1])"
      ]
     },
     "execution_count": 5,
     "metadata": {},
     "output_type": "execute_result"
    }
   ],
   "source": [
    "num"
   ]
  },
  {
   "cell_type": "code",
   "execution_count": 10,
   "metadata": {},
   "outputs": [
    {
     "data": {
      "text/plain": [
       "array([1, 7])"
      ]
     },
     "execution_count": 10,
     "metadata": {},
     "output_type": "execute_result"
    }
   ],
   "source": [
    "num[1:3]"
   ]
  },
  {
   "cell_type": "code",
   "execution_count": 302,
   "metadata": {},
   "outputs": [
    {
     "data": {
      "text/plain": [
       "array([0., 0., 0., 0., 0., 0.])"
      ]
     },
     "execution_count": 302,
     "metadata": {},
     "output_type": "execute_result"
    }
   ],
   "source": [
    "k=4\n",
    "container = np.zeros(l-k)\n",
    "container"
   ]
  },
  {
   "cell_type": "code",
   "execution_count": null,
   "metadata": {},
   "outputs": [],
   "source": []
  },
  {
   "cell_type": "code",
   "execution_count": 303,
   "metadata": {},
   "outputs": [
    {
     "data": {
      "text/plain": [
       "'775841'"
      ]
     },
     "execution_count": 303,
     "metadata": {},
     "output_type": "execute_result"
    }
   ],
   "source": [
    "for i in range(l-len(container)+1):\n",
    "    num1 = n[i:i+len(container)]\n",
    "    for j in range(len(container)):\n",
    "        if int(container[j]) < int(num1[j]):\n",
    "            container[j] = num1[j]\n",
    "            try:\n",
    "                if int(container[j]) == int(container[j+1]):\n",
    "                    container[j+1] = 0\n",
    "            except:\n",
    "                pass\n",
    "            \n",
    "''.join([str(int(x)) for x in container])"
   ]
  },
  {
   "cell_type": "code",
   "execution_count": 296,
   "metadata": {},
   "outputs": [
    {
     "data": {
      "text/plain": [
       "array([7., 7., 5., 8., 4., 1.])"
      ]
     },
     "execution_count": 296,
     "metadata": {},
     "output_type": "execute_result"
    }
   ],
   "source": [
    "container"
   ]
  },
  {
   "cell_type": "code",
   "execution_count": 297,
   "metadata": {},
   "outputs": [
    {
     "data": {
      "text/plain": [
       "'775841'"
      ]
     },
     "execution_count": 297,
     "metadata": {},
     "output_type": "execute_result"
    }
   ],
   "source": [
    "''.join([str(int(x)) for x in container])"
   ]
  },
  {
   "cell_type": "code",
   "execution_count": 230,
   "metadata": {},
   "outputs": [
    {
     "data": {
      "text/plain": [
       "[1, 9]"
      ]
     },
     "execution_count": 230,
     "metadata": {},
     "output_type": "execute_result"
    }
   ],
   "source": [
    "num[0:2]"
   ]
  },
  {
   "cell_type": "code",
   "execution_count": 17,
   "metadata": {},
   "outputs": [],
   "source": [
    "import numpy as np\n",
    "\n",
    "def solution(number, k):\n",
    "    l = len(number)\n",
    "    num = [int(number[x]) for x in range(len(number))]\n",
    "    container = num[:l-k]\n",
    "    \n",
    "    for i in range(1, l - len(container) + 1):\n",
    "        num1 = num[i:i+len(container)]\n",
    "        \n",
    "        for j in range(len(container)):\n",
    "            if container[j] < num1[j]:\n",
    "                container[j] = num1[j]\n",
    "                \n",
    "                try:\n",
    "                    if container[j] == container[j+1]:\n",
    "                        container[j+1] = 0\n",
    "                except:\n",
    "                    pass\n",
    "    \n",
    "    return ''.join([str(int(x)) for x in container])"
   ]
  },
  {
   "cell_type": "code",
   "execution_count": 18,
   "metadata": {},
   "outputs": [
    {
     "name": "stdout",
     "output_type": "stream",
     "text": [
      "[4 1 7 7 2 5]\n",
      "[1 7 7 2 5 2]\n",
      "[7 7 2 5 2 8]\n",
      "[7 2 5 2 8 4]\n",
      "[2 5 2 8 4 1]\n"
     ]
    },
    {
     "data": {
      "text/plain": [
       "'775841'"
      ]
     },
     "execution_count": 18,
     "metadata": {},
     "output_type": "execute_result"
    }
   ],
   "source": [
    "solution(\"4177252841\", 4)"
   ]
  },
  {
   "cell_type": "code",
   "execution_count": 308,
   "metadata": {},
   "outputs": [
    {
     "name": "stdout",
     "output_type": "stream",
     "text": [
      "0\n",
      "1\n",
      "2\n",
      "3\n"
     ]
    }
   ],
   "source": [
    "for i in range(4):\n",
    "    print(i)"
   ]
  },
  {
   "cell_type": "code",
   "execution_count": 194,
   "metadata": {},
   "outputs": [
    {
     "data": {
      "text/plain": [
       "array([1, 2])"
      ]
     },
     "execution_count": 194,
     "metadata": {},
     "output_type": "execute_result"
    }
   ],
   "source": [
    "k = 5\n",
    "num = np.array([1,2,3,1,2,3,4])\n",
    "l = len(num)\n",
    "containers = num[:l-k]\n",
    "containers"
   ]
  },
  {
   "cell_type": "code",
   "execution_count": 195,
   "metadata": {},
   "outputs": [
    {
     "name": "stdout",
     "output_type": "stream",
     "text": [
      "[2 3]\n",
      "1\n",
      "1\n",
      "[2 2]\n",
      "[3 1]\n",
      "2\n",
      "2\n",
      "[3 2]\n",
      "[1 2]\n",
      "3\n",
      "3\n",
      "[3 2]\n",
      "[2 3]\n",
      "4\n",
      "4\n",
      "[3 3]\n",
      "[3 4]\n",
      "5\n",
      "5\n",
      "[3 4]\n"
     ]
    }
   ],
   "source": [
    "for i in range(1, l-len(containers)+1):\n",
    "    num1 = num[i:i+len(containers)]\n",
    "    if i == (len(num)-len(containers)):\n",
    "        if (containers < num1).sum() != 0:\n",
    "            idx = np.where(containers < num1)[0]\n",
    "            containers[idx] = num1[idx]\n",
    "            \n",
    "    else:\n",
    "        if (containers < num1).sum() != 0:\n",
    "            idx = np.where(containers < num1)[0][0]\n",
    "            containers[idx] = num1[idx]"
   ]
  },
  {
   "cell_type": "code",
   "execution_count": 196,
   "metadata": {},
   "outputs": [
    {
     "data": {
      "text/plain": [
       "array([3, 4])"
      ]
     },
     "execution_count": 196,
     "metadata": {},
     "output_type": "execute_result"
    }
   ],
   "source": [
    "containers"
   ]
  },
  {
   "cell_type": "code",
   "execution_count": 197,
   "metadata": {},
   "outputs": [
    {
     "data": {
      "text/plain": [
       "array([4, 3])"
      ]
     },
     "execution_count": 197,
     "metadata": {},
     "output_type": "execute_result"
    }
   ],
   "source": [
    "num1 = num[1:3]\n",
    "num1"
   ]
  },
  {
   "cell_type": "code",
   "execution_count": 200,
   "metadata": {},
   "outputs": [
    {
     "data": {
      "text/plain": [
       "1"
      ]
     },
     "execution_count": 200,
     "metadata": {},
     "output_type": "execute_result"
    }
   ],
   "source": [
    "sum(containers < num1)"
   ]
  },
  {
   "cell_type": "code",
   "execution_count": 178,
   "metadata": {},
   "outputs": [
    {
     "data": {
      "text/plain": [
       "2"
      ]
     },
     "execution_count": 178,
     "metadata": {},
     "output_type": "execute_result"
    }
   ],
   "source": [
    "idx.sum()"
   ]
  },
  {
   "cell_type": "code",
   "execution_count": 142,
   "metadata": {},
   "outputs": [],
   "source": [
    "idx = np.where(containers < num1)[0]"
   ]
  },
  {
   "cell_type": "code",
   "execution_count": 141,
   "metadata": {},
   "outputs": [
    {
     "data": {
      "text/plain": [
       "1"
      ]
     },
     "execution_count": 141,
     "metadata": {},
     "output_type": "execute_result"
    }
   ],
   "source": [
    "idx"
   ]
  },
  {
   "cell_type": "code",
   "execution_count": 112,
   "metadata": {},
   "outputs": [],
   "source": [
    "containers[idx] = num1[idx]"
   ]
  },
  {
   "cell_type": "code",
   "execution_count": 113,
   "metadata": {},
   "outputs": [
    {
     "data": {
      "text/plain": [
       "array([3, 3, 4])"
      ]
     },
     "execution_count": 113,
     "metadata": {},
     "output_type": "execute_result"
    }
   ],
   "source": [
    "containers"
   ]
  },
  {
   "cell_type": "code",
   "execution_count": 35,
   "metadata": {},
   "outputs": [],
   "source": [
    "if containers.sum() == containers[0] * 2:\n",
    "    containers[1] = 0"
   ]
  },
  {
   "cell_type": "code",
   "execution_count": 36,
   "metadata": {},
   "outputs": [
    {
     "data": {
      "text/plain": [
       "array([9, 4])"
      ]
     },
     "execution_count": 36,
     "metadata": {},
     "output_type": "execute_result"
    }
   ],
   "source": [
    "containers"
   ]
  },
  {
   "cell_type": "code",
   "execution_count": 287,
   "metadata": {},
   "outputs": [],
   "source": [
    "import numpy as np\n",
    "\n",
    "def solution(number, k):\n",
    "    l = len(number)\n",
    "    num = [int(number[x]) for x in range(len(number))]\n",
    "    containers = np.array(num[:l-k])\n",
    "\n",
    "    for i in range(1, l-len(containers)+1):\n",
    "        num1 = num[i:i+len(containers)]\n",
    "\n",
    "        if i == (len(num)-len(containers)):\n",
    "            \n",
    "            containers[-(k-1):] = num1[-(k-1):]\n",
    "\n",
    "        else:\n",
    "            if True in (containers < num1):\n",
    "                idx = np.where(containers < num1)[0][0]\n",
    "                containers[idx:] = num1[idx:]\n",
    "        \n",
    "        \n",
    "        \n",
    "    return ''.join([str(int(x)) for x in containers])"
   ]
  },
  {
   "cell_type": "code",
   "execution_count": 297,
   "metadata": {},
   "outputs": [
    {
     "name": "stdout",
     "output_type": "stream",
     "text": [
      "containers: [1 2 3 1]\n",
      "num1 [2, 3, 1, 2]\n",
      "containers [2 3 1 2]\n",
      "num1 [3, 1, 2, 3]\n",
      "containers [3 1 2 3]\n",
      "num1 [1, 2, 3, 4]\n",
      "containers [3 1 2 3]\n",
      "num1 [1, 2, 3, 4]\n",
      "containers [3 1 3 4]\n"
     ]
    },
    {
     "data": {
      "text/plain": [
       "'3134'"
      ]
     },
     "execution_count": 297,
     "metadata": {},
     "output_type": "execute_result"
    }
   ],
   "source": [
    "solution('1231234', 3)"
   ]
  },
  {
   "cell_type": "code",
   "execution_count": 209,
   "metadata": {},
   "outputs": [
    {
     "name": "stdout",
     "output_type": "stream",
     "text": [
      "12\n"
     ]
    }
   ],
   "source": [
    "if sum(list(containers < num1)) != 0:\n",
    "    print(12)"
   ]
  },
  {
   "cell_type": "code",
   "execution_count": 210,
   "metadata": {},
   "outputs": [
    {
     "data": {
      "text/plain": [
       "True"
      ]
     },
     "execution_count": 210,
     "metadata": {},
     "output_type": "execute_result"
    }
   ],
   "source": [
    "True in [True, False]"
   ]
  },
  {
   "cell_type": "code",
   "execution_count": 408,
   "metadata": {},
   "outputs": [
    {
     "data": {
      "text/plain": [
       "(array([1, 2, 3], dtype=int64),)"
      ]
     },
     "execution_count": 408,
     "metadata": {},
     "output_type": "execute_result"
    }
   ],
   "source": [
    "np.where(np.array([3,1,2,3]) < np.array([1,2,3,4]))"
   ]
  },
  {
   "cell_type": "code",
   "execution_count": 290,
   "metadata": {},
   "outputs": [],
   "source": [
    "containers = np.array([3,1,2,3])\n",
    "num1 = [1,2,3,4]"
   ]
  },
  {
   "cell_type": "code",
   "execution_count": 293,
   "metadata": {},
   "outputs": [],
   "source": [
    "containers[1:] = num1[1:]"
   ]
  },
  {
   "cell_type": "code",
   "execution_count": 294,
   "metadata": {},
   "outputs": [
    {
     "data": {
      "text/plain": [
       "array([3, 2, 3, 4])"
      ]
     },
     "execution_count": 294,
     "metadata": {},
     "output_type": "execute_result"
    }
   ],
   "source": [
    "containers"
   ]
  },
  {
   "cell_type": "code",
   "execution_count": 335,
   "metadata": {},
   "outputs": [],
   "source": [
    "import numpy as np\n",
    "\n",
    "def solution(number, k):\n",
    "    l = len(number)\n",
    "    num = [int(number[x]) for x in range(len(number))]\n",
    "    containers = np.array(num[:l-k])\n",
    "\n",
    "    for i in range(1, l-len(containers)+1):\n",
    "        num1 = num[i:i+len(containers)]\n",
    "\n",
    "        if i == (len(num)-len(containers)):\n",
    "            \n",
    "            containers[-(k-1):] = num1[-(k-1):]\n",
    "\n",
    "        else:\n",
    "            if True in (containers < num1):\n",
    "                idx = np.where(containers < num1)[0][0]\n",
    "                containers[idx:] = num1[idx:]\n",
    "        \n",
    "        \n",
    "        \n",
    "    return ''.join([str(int(x)) for x in containers])"
   ]
  },
  {
   "cell_type": "code",
   "execution_count": 337,
   "metadata": {},
   "outputs": [
    {
     "data": {
      "text/plain": [
       "'47725281'"
      ]
     },
     "execution_count": 337,
     "metadata": {},
     "output_type": "execute_result"
    }
   ],
   "source": [
    "solution('4177252841', 2)"
   ]
  },
  {
   "cell_type": "code",
   "execution_count": 313,
   "metadata": {},
   "outputs": [
    {
     "data": {
      "text/plain": [
       "'841'"
      ]
     },
     "execution_count": 313,
     "metadata": {},
     "output_type": "execute_result"
    }
   ],
   "source": [
    "k=4\n",
    "num = '3177252841'\n",
    "num[-(k-1):]"
   ]
  },
  {
   "cell_type": "code",
   "execution_count": null,
   "metadata": {},
   "outputs": [],
   "source": []
  },
  {
   "cell_type": "code",
   "execution_count": 401,
   "metadata": {},
   "outputs": [
    {
     "data": {
      "text/plain": [
       "[4, 1, 7, 7, 2, 5, 2, 8, 4, 1]"
      ]
     },
     "execution_count": 401,
     "metadata": {},
     "output_type": "execute_result"
    }
   ],
   "source": [
    "number = \"4177252841\"\n",
    "num = [int(number[x]) for x in range(len(number))]\n",
    "num"
   ]
  },
  {
   "cell_type": "code",
   "execution_count": 402,
   "metadata": {},
   "outputs": [],
   "source": [
    "k = 4"
   ]
  },
  {
   "cell_type": "code",
   "execution_count": 403,
   "metadata": {},
   "outputs": [
    {
     "data": {
      "text/plain": [
       "2"
      ]
     },
     "execution_count": 403,
     "metadata": {},
     "output_type": "execute_result"
    }
   ],
   "source": [
    "# container 는 6칸\n",
    "l = len(num) - k\n",
    "start = np.argmax(num[:k+1])\n",
    "start"
   ]
  },
  {
   "cell_type": "code",
   "execution_count": 404,
   "metadata": {},
   "outputs": [
    {
     "data": {
      "text/plain": [
       "array([7, 7, 2, 5, 2, 8])"
      ]
     },
     "execution_count": 404,
     "metadata": {},
     "output_type": "execute_result"
    }
   ],
   "source": [
    "containers = np.array(num[start:start+l])\n",
    "containers"
   ]
  },
  {
   "cell_type": "code",
   "execution_count": 365,
   "metadata": {},
   "outputs": [
    {
     "data": {
      "text/plain": [
       "[7, 7, 2, 5, 2, 8, 4, 1]"
      ]
     },
     "execution_count": 365,
     "metadata": {},
     "output_type": "execute_result"
    }
   ],
   "source": [
    "num = num[start:]\n",
    "num"
   ]
  },
  {
   "cell_type": "code",
   "execution_count": 426,
   "metadata": {},
   "outputs": [],
   "source": [
    "import numpy as np\n",
    "\n",
    "def solution(number, k):\n",
    "    num = np.array([int(number[x]) for x in range(len(number))])\n",
    "    l = len(num) - k\n",
    "    start = np.argmax(num[:k+1])\n",
    "\n",
    "    containers = np.array(num[start:start+l])\n",
    "\n",
    "    num = np.array(num[start:])\n",
    "\n",
    "    for i in range(1,len(num)-l+1):\n",
    "        if True in (containers < num[i: i+l]):\n",
    "            idx = np.where(containers < num[i: i+l])[0][0]\n",
    "            containers[idx:] = num[i: i+l][idx:]\n",
    "            \n",
    "    result = ''.join([str(x) for x in containers])\n",
    "    return result"
   ]
  },
  {
   "cell_type": "code",
   "execution_count": 427,
   "metadata": {},
   "outputs": [
    {
     "data": {
      "text/plain": [
       "'94'"
      ]
     },
     "execution_count": 427,
     "metadata": {},
     "output_type": "execute_result"
    }
   ],
   "source": [
    "solution('1924', 2)"
   ]
  },
  {
   "cell_type": "code",
   "execution_count": 400,
   "metadata": {},
   "outputs": [
    {
     "data": {
      "text/plain": [
       "array([False, False, False, False, False, False])"
      ]
     },
     "execution_count": 400,
     "metadata": {},
     "output_type": "execute_result"
    }
   ],
   "source": [
    "containers < num1"
   ]
  },
  {
   "cell_type": "code",
   "execution_count": 397,
   "metadata": {},
   "outputs": [],
   "source": [
    "import numpy as np\n",
    "\n",
    "def solution(number, k):\n",
    "    num = [int(number[x]) for x in range(len(number))]\n",
    "    l = len(num) - k\n",
    "    start = np.argmax(num[:k+1])\n",
    "\n",
    "    containers = np.array(num[start:start+l])\n",
    "\n",
    "    num = num[start:]\n",
    "\n",
    "    for i in range(1,len(num)-l+1):\n",
    "        num1 = num[i: i+l]\n",
    "        if True in (containers < num1):\n",
    "            idx = np.where(containers < num1)[0][0]\n",
    "            containers[idx:] = num1[idx:]\n",
    "    \n",
    "    return ''.join([str(x) for x in containers])"
   ]
  },
  {
   "cell_type": "code",
   "execution_count": 390,
   "metadata": {},
   "outputs": [
    {
     "data": {
      "text/plain": [
       "array([2, 5, 2, 8, 4, 1])"
      ]
     },
     "execution_count": 390,
     "metadata": {},
     "output_type": "execute_result"
    }
   ],
   "source": [
    "number = '4177252841'\n",
    "num = np.array([int(number[x]) for x in range(len(number))])\n",
    "num[4:12]"
   ]
  },
  {
   "cell_type": "code",
   "execution_count": 395,
   "metadata": {},
   "outputs": [
    {
     "data": {
      "text/plain": [
       "(array([], dtype=int64),)"
      ]
     },
     "execution_count": 395,
     "metadata": {},
     "output_type": "execute_result"
    }
   ],
   "source": [
    "np.where(containers < num1)"
   ]
  },
  {
   "cell_type": "code",
   "execution_count": 396,
   "metadata": {},
   "outputs": [
    {
     "data": {
      "text/plain": [
       "[False, True, True]"
      ]
     },
     "execution_count": 396,
     "metadata": {},
     "output_type": "execute_result"
    }
   ],
   "source": [
    "[False,True,True]"
   ]
  },
  {
   "cell_type": "code",
   "execution_count": 431,
   "metadata": {},
   "outputs": [
    {
     "data": {
      "text/plain": [
       "array([3, 2, 2, 4])"
      ]
     },
     "execution_count": 431,
     "metadata": {},
     "output_type": "execute_result"
    }
   ],
   "source": [
    "np.where(np.array([3,1,2,3]) < np.array([1,2,1,4]),  np.array([1,2,3,4]), np.array([3,1,2,3]))"
   ]
  },
  {
   "cell_type": "code",
   "execution_count": 1,
   "metadata": {},
   "outputs": [],
   "source": [
    "import numpy as np\n",
    "\n",
    "def solution(number, k):\n",
    "    num = np.array([int(number[x]) for x in range(len(number))])\n",
    "    l = len(num) - k\n",
    "    start = np.argmax(num[:k+1])\n",
    "    \n",
    "    num = np.array(num[start:])\n",
    "    \n",
    "    containers = np.array(num[:l])\n",
    "\n",
    "    for i in range(1,len(num)-l+1):\n",
    "        num1 = num[i:i+l]\n",
    "        if True in (containers < num1):\n",
    "            idx = np.where(containers < num1)[0][0]\n",
    "            containers[idx:] = num1[idx:]\n",
    "            \n",
    "    result = ''.join([str(x) for x in containers])\n",
    "    return result"
   ]
  },
  {
   "cell_type": "code",
   "execution_count": 75,
   "metadata": {},
   "outputs": [],
   "source": [
    "import numpy as np\n",
    "\n",
    "def solution(number, k):\n",
    "    num = np.array([int(number[x]) for x in range(len(number))])\n",
    "    l = len(num) - k\n",
    "    start = np.argmax(num[:k+1])\n",
    "    \n",
    "    num = np.array(num[start:])\n",
    "    \n",
    "    containers = np.array(num[:l])\n",
    "                         \n",
    "    for i in range(1,len(num)-l+1):\n",
    "        num1 = num[i:i+l]\n",
    "        try:\n",
    "            idx, = np.where(containers < num1)\n",
    "            containers[idx[0]:] = num1[idx[0]:]\n",
    "        except:\n",
    "            pass\n",
    "    \n",
    "    return ''.join([str(x) for x in containers])"
   ]
  },
  {
   "cell_type": "code",
   "execution_count": 90,
   "metadata": {},
   "outputs": [
    {
     "data": {
      "text/plain": [
       "'8'"
      ]
     },
     "execution_count": 90,
     "metadata": {},
     "output_type": "execute_result"
    }
   ],
   "source": [
    "solution('4177252841', 9)"
   ]
  },
  {
   "cell_type": "code",
   "execution_count": 71,
   "metadata": {},
   "outputs": [],
   "source": [
    "a, = np.where(np.array([3,1,2,3]) < np.array([1,2,1,4]))"
   ]
  },
  {
   "cell_type": "code",
   "execution_count": 72,
   "metadata": {},
   "outputs": [
    {
     "data": {
      "text/plain": [
       "array([1, 3], dtype=int64)"
      ]
     },
     "execution_count": 72,
     "metadata": {},
     "output_type": "execute_result"
    }
   ],
   "source": [
    "a"
   ]
  },
  {
   "cell_type": "code",
   "execution_count": null,
   "metadata": {},
   "outputs": [],
   "source": []
  }
 ],
 "metadata": {
  "kernelspec": {
   "display_name": "Python 3",
   "language": "python",
   "name": "python3"
  },
  "language_info": {
   "codemirror_mode": {
    "name": "ipython",
    "version": 3
   },
   "file_extension": ".py",
   "mimetype": "text/x-python",
   "name": "python",
   "nbconvert_exporter": "python",
   "pygments_lexer": "ipython3",
   "version": "3.7.7"
  }
 },
 "nbformat": 4,
 "nbformat_minor": 4
}
